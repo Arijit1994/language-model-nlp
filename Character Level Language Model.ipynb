{
 "cells": [
  {
   "cell_type": "markdown",
   "metadata": {},
   "source": [
    "# Character Level Language Model\n",
    "\n",
    "Using a poem to buid a character level language model\n"
   ]
  },
  {
   "cell_type": "markdown",
   "metadata": {},
   "source": [
    "## Language Model Design\n",
    "\n",
    "A language model must be trained on the text, and in the case of a character-based language model, the input and output sequences must be characters.\n",
    "\n",
    "The number of characters used as input will also define the number of characters that will need to be provided to the model in order to elicit the first predicted character.\n",
    "\n",
    "After the first character has been generated, it can be appended to the input sequence and used as input for the model to generate the next character.\n",
    "\n",
    "Longer sequences offer more context for the model to learn what character to output next but take longer to train and impose more burden on seeding the model when generating text.\n",
    "\n",
    "We will use an arbitrary length of 10 characters for this model.\n",
    "\n",
    "There is not a lot of text, and 10 characters is a few words.\n",
    "\n",
    "We can now transform the raw text into a form that our model can learn; specifically, input and output sequences of characters."
   ]
  },
  {
   "cell_type": "code",
   "execution_count": 28,
   "metadata": {},
   "outputs": [],
   "source": [
    "import numpy as np\n",
    "from pickle import dump, load\n",
    "from keras.utils import to_categorical\n",
    "from keras.models import Sequential, load_model\n",
    "from keras.layers import Dense\n",
    "from keras.layers import LSTM\n",
    "from keras.preprocessing.sequence import pad_sequences"
   ]
  },
  {
   "cell_type": "markdown",
   "metadata": {},
   "source": [
    "### Load Text\n",
    "We must load the text into memory so that we can work with it.\n",
    "\n",
    "Below is a function named load_doc() that will load a text file given a filename and return the loaded text."
   ]
  },
  {
   "cell_type": "code",
   "execution_count": 3,
   "metadata": {},
   "outputs": [],
   "source": [
    "# load doc into memory\n",
    "def load_doc(filename):\n",
    "    # open the file as read only\n",
    "    file = open(filename, 'r')\n",
    "    # read all text\n",
    "    text = file.read()\n",
    "    # close the file\n",
    "    file.close()\n",
    "    return text\n"
   ]
  },
  {
   "cell_type": "code",
   "execution_count": 4,
   "metadata": {},
   "outputs": [
    {
     "name": "stdout",
     "output_type": "stream",
     "text": [
      "Sing a song of sixpence,\n",
      "A pocket full of rye.\n",
      "Four and twenty blackbirds,\n",
      "Baked in a pie.\n",
      "\n",
      "When the pie was opened\n",
      "The birds began to sing;\n",
      "Wasn't that a dainty dish,\n",
      "To set before the king.\n",
      "\n",
      "The king was in his counting house,\n",
      "Counting out his money;\n",
      "The queen was in the parlour,\n",
      "Eating bread and honey.\n",
      "\n",
      "The maid was in the garden,\n",
      "Hanging out the clothes,\n",
      "When down came a blackbird\n",
      "And pecked off her nose.\n"
     ]
    }
   ],
   "source": [
    "# load text\n",
    "raw_text = load_doc('data.txt')\n",
    "print(raw_text)"
   ]
  },
  {
   "cell_type": "markdown",
   "metadata": {},
   "source": [
    "### Clean Text\n",
    "\n",
    "Next, we need to clean the loaded text.\n",
    "\n",
    "We will not do much to it here. Specifically, we will strip all of the new line characters so that we have one long sequence of characters separated only by white space."
   ]
  },
  {
   "cell_type": "code",
   "execution_count": 5,
   "metadata": {},
   "outputs": [],
   "source": [
    "# clean\n",
    "tokens = raw_text.split()\n",
    "raw_text = ' '.join(tokens).lower()"
   ]
  },
  {
   "cell_type": "code",
   "execution_count": 6,
   "metadata": {},
   "outputs": [
    {
     "data": {
      "text/plain": [
       "\"sing a song of sixpence, a pocket full of rye. four and twenty blackbirds, baked in a pie. when the pie was opened the birds began to sing; wasn't that a dainty dish, to set before the king. the king was in his counting house, counting out his money; the queen was in the parlour, eating bread and honey. the maid was in the garden, hanging out the clothes, when down came a blackbird and pecked off her nose.\""
      ]
     },
     "execution_count": 6,
     "metadata": {},
     "output_type": "execute_result"
    }
   ],
   "source": [
    "raw_text"
   ]
  },
  {
   "cell_type": "markdown",
   "metadata": {},
   "source": [
    "### Create Sequences\n",
    "Now that we have a long list of characters, we can create our input-output sequences used to train the model.\n",
    "\n",
    "Each input sequence will be 10 characters with one output character, making each sequence 11 characters long.\n",
    "\n",
    "We can create the sequences by enumerating the characters in the text, starting at the 11th character at index 10."
   ]
  },
  {
   "cell_type": "code",
   "execution_count": 7,
   "metadata": {},
   "outputs": [
    {
     "name": "stdout",
     "output_type": "stream",
     "text": [
      "Total Sequences: 399\n"
     ]
    }
   ],
   "source": [
    "# organize into sequences of characters\n",
    "length = 10\n",
    "sequences = list()\n",
    "for i in range(length, len(raw_text)):\n",
    "    # select sequence of tokens\n",
    "    seq = raw_text[i-length:i+1]\n",
    "    # store\n",
    "    sequences.append(seq)\n",
    "print('Total Sequences: %d' % len(sequences))"
   ]
  },
  {
   "cell_type": "markdown",
   "metadata": {},
   "source": [
    "### Save Sequences\n",
    "Finally, we can save the prepared data to file so that we can load it later when we develop our model.\n",
    "\n",
    "Below is a function save_doc() that, given a list of strings and a filename, will save the strings to file, one per line."
   ]
  },
  {
   "cell_type": "code",
   "execution_count": 8,
   "metadata": {},
   "outputs": [],
   "source": [
    "# save tokens to file, one dialog per line\n",
    "def save_doc(lines, filename):\n",
    "    data = '\\n'.join(lines)\n",
    "    file = open(filename, 'w')\n",
    "    file.write(data)\n",
    "    file.close()"
   ]
  },
  {
   "cell_type": "code",
   "execution_count": 9,
   "metadata": {},
   "outputs": [],
   "source": [
    "# save sequences to file\n",
    "out_filename = 'char_sequences.txt'\n",
    "save_doc(sequences, out_filename)"
   ]
  },
  {
   "cell_type": "markdown",
   "metadata": {},
   "source": [
    "### Train Language Model\n",
    "In this section, we will develop a neural language model for the prepared sequence data.\n",
    "\n",
    "The model will read encoded characters and predict the next character in the sequence. A Long Short-Term Memory recurrent neural network hidden layer will be used to learn the context from the input sequence in order to make the predictions.\n",
    "\n",
    "### Load Data\n",
    "The first step is to load the prepared character sequence data from ‘char_sequences.txt‘.\n",
    "\n",
    "We can use the same load_doc() function developed in the previous section. Once loaded, we split the text by new line to give a list of sequences ready to be encoded."
   ]
  },
  {
   "cell_type": "code",
   "execution_count": 10,
   "metadata": {},
   "outputs": [],
   "source": [
    "# load doc into memory\n",
    "def load_doc(filename):\n",
    "    # open the file as read only\n",
    "    file = open(filename, 'r')\n",
    "    # read all text\n",
    "    text = file.read()\n",
    "    # close the file\n",
    "    file.close()\n",
    "    return text\n",
    "\n",
    "# load\n",
    "in_filename = 'char_sequences.txt'\n",
    "raw_text = load_doc(in_filename)\n",
    "lines = raw_text.split('\\n')"
   ]
  },
  {
   "cell_type": "markdown",
   "metadata": {},
   "source": [
    "### Encode Sequences\n",
    "The sequences of characters must be encoded as integers.\n",
    "\n",
    "This means that each unique character will be assigned a specific integer value and each sequence of characters will be encoded as a sequence of integers.\n",
    "\n",
    "We can create the mapping given a sorted set of unique characters in the raw input data. The mapping is a dictionary of character values to integer values."
   ]
  },
  {
   "cell_type": "code",
   "execution_count": 11,
   "metadata": {},
   "outputs": [],
   "source": [
    "chars = sorted(list(set(raw_text)))\n",
    "mapping = dict((c, i) for i, c in enumerate(chars))"
   ]
  },
  {
   "cell_type": "code",
   "execution_count": 12,
   "metadata": {},
   "outputs": [],
   "source": [
    "sequences = list()\n",
    "for line in lines:\n",
    "    # integer encode line\n",
    "    encoded_seq = [mapping[char] for char in line]\n",
    "    # store\n",
    "    sequences.append(encoded_seq)"
   ]
  },
  {
   "cell_type": "code",
   "execution_count": 13,
   "metadata": {},
   "outputs": [
    {
     "name": "stdout",
     "output_type": "stream",
     "text": [
      "Vocabulary Size: 29\n"
     ]
    }
   ],
   "source": [
    "# vocabulary size\n",
    "vocab_size = len(mapping)\n",
    "print('Vocabulary Size: %d' % vocab_size)"
   ]
  },
  {
   "cell_type": "markdown",
   "metadata": {},
   "source": [
    "### Split Inputs and Output\n",
    "Now that the sequences have been integer encoded, we can separate the columns into input and output sequences of characters.\n",
    "\n",
    "We can do this using a simple array slice."
   ]
  },
  {
   "cell_type": "code",
   "execution_count": 14,
   "metadata": {},
   "outputs": [],
   "source": [
    "sequences = np.array(sequences)\n",
    "X, y = sequences[:,:-1], sequences[:,-1]"
   ]
  },
  {
   "cell_type": "markdown",
   "metadata": {},
   "source": [
    "Next, we need to one hot encode each character. That is, each character becomes a vector as long as the vocabulary (38 elements) with a 1 marked for the specific character. This provides a more precise input representation for the network. It also provides a clear objective for the network to predict, where a probability distribution over characters can be output by the model and compared to the ideal case of all 0 values with a 1 for the actual next character.\n",
    "\n",
    "We can use the to_categorical() function in the Keras API to one hot encode the input and output sequences."
   ]
  },
  {
   "cell_type": "code",
   "execution_count": 16,
   "metadata": {},
   "outputs": [],
   "source": [
    "sequences = [to_categorical(x, num_classes=vocab_size) for x in X]\n",
    "X = np.array(sequences)\n",
    "y = to_categorical(y, num_classes=vocab_size)"
   ]
  },
  {
   "cell_type": "markdown",
   "metadata": {},
   "source": [
    "### Fit Model\n",
    "The model is defined with an input layer that takes sequences that have 10 time steps and 29 features for the one hot encoded input sequences.\n",
    "\n",
    "Rather than specify these numbers, we use the second and third dimensions on the X input data. This is so that if we change the length of the sequences or size of the vocabulary, we do not need to change the model definition.\n",
    "\n",
    "The model has a single LSTM hidden layer with 75 memory cells.\n",
    "\n",
    "The model has a fully connected output layer that outputs one vector with a probability distribution across all characters in the vocabulary. A softmax activation function is used on the output layer to ensure the output has the properties of a probability distribution."
   ]
  },
  {
   "cell_type": "code",
   "execution_count": 17,
   "metadata": {},
   "outputs": [
    {
     "name": "stdout",
     "output_type": "stream",
     "text": [
      "Model: \"sequential\"\n",
      "_________________________________________________________________\n",
      "Layer (type)                 Output Shape              Param #   \n",
      "=================================================================\n",
      "lstm (LSTM)                  (None, 75)                31500     \n",
      "_________________________________________________________________\n",
      "dense (Dense)                (None, 29)                2204      \n",
      "=================================================================\n",
      "Total params: 33,704\n",
      "Trainable params: 33,704\n",
      "Non-trainable params: 0\n",
      "_________________________________________________________________\n",
      "None\n"
     ]
    }
   ],
   "source": [
    "# define model\n",
    "model = Sequential()\n",
    "model.add(LSTM(75, input_shape=(X.shape[1], X.shape[2])))\n",
    "model.add(Dense(vocab_size, activation='softmax'))\n",
    "print(model.summary())"
   ]
  },
  {
   "cell_type": "markdown",
   "metadata": {},
   "source": [
    "The model is learning a multi-class classification problem, therefore we use the categorical log loss intended for this type of problem. The efficient Adam implementation of gradient descent is used to optimize the model and accuracy is reported at the end of each batch update.\n",
    "\n",
    "The model is fit for 100 training epochs"
   ]
  },
  {
   "cell_type": "code",
   "execution_count": 18,
   "metadata": {},
   "outputs": [
    {
     "name": "stdout",
     "output_type": "stream",
     "text": [
      "Epoch 1/100\n",
      "13/13 - 2s - loss: 3.3358 - accuracy: 0.1328\n",
      "Epoch 2/100\n",
      "13/13 - 0s - loss: 3.2270 - accuracy: 0.1905\n",
      "Epoch 3/100\n",
      "13/13 - 0s - loss: 3.0330 - accuracy: 0.1905\n",
      "Epoch 4/100\n",
      "13/13 - 0s - loss: 2.9310 - accuracy: 0.1905\n",
      "Epoch 5/100\n",
      "13/13 - 0s - loss: 2.8996 - accuracy: 0.1905\n",
      "Epoch 6/100\n",
      "13/13 - 0s - loss: 2.8753 - accuracy: 0.1905\n",
      "Epoch 7/100\n",
      "13/13 - 0s - loss: 2.8566 - accuracy: 0.1905\n",
      "Epoch 8/100\n",
      "13/13 - 0s - loss: 2.8369 - accuracy: 0.1905\n",
      "Epoch 9/100\n",
      "13/13 - 0s - loss: 2.8257 - accuracy: 0.1905\n",
      "Epoch 10/100\n",
      "13/13 - 0s - loss: 2.8097 - accuracy: 0.1905\n",
      "Epoch 11/100\n",
      "13/13 - 0s - loss: 2.7898 - accuracy: 0.1905\n",
      "Epoch 12/100\n",
      "13/13 - 0s - loss: 2.7470 - accuracy: 0.1905\n",
      "Epoch 13/100\n",
      "13/13 - 0s - loss: 2.7159 - accuracy: 0.2005\n",
      "Epoch 14/100\n",
      "13/13 - 0s - loss: 2.6843 - accuracy: 0.2030\n",
      "Epoch 15/100\n",
      "13/13 - 0s - loss: 2.6463 - accuracy: 0.2180\n",
      "Epoch 16/100\n",
      "13/13 - 0s - loss: 2.6011 - accuracy: 0.2481\n",
      "Epoch 17/100\n",
      "13/13 - 0s - loss: 2.5599 - accuracy: 0.2682\n",
      "Epoch 18/100\n",
      "13/13 - 0s - loss: 2.5370 - accuracy: 0.2531\n",
      "Epoch 19/100\n",
      "13/13 - 0s - loss: 2.4940 - accuracy: 0.2707\n",
      "Epoch 20/100\n",
      "13/13 - 0s - loss: 2.4470 - accuracy: 0.2581\n",
      "Epoch 21/100\n",
      "13/13 - 0s - loss: 2.4069 - accuracy: 0.2581\n",
      "Epoch 22/100\n",
      "13/13 - 0s - loss: 2.3786 - accuracy: 0.3183\n",
      "Epoch 23/100\n",
      "13/13 - 0s - loss: 2.3350 - accuracy: 0.3083\n",
      "Epoch 24/100\n",
      "13/13 - 0s - loss: 2.2994 - accuracy: 0.3333\n",
      "Epoch 25/100\n",
      "13/13 - 0s - loss: 2.2567 - accuracy: 0.3484\n",
      "Epoch 26/100\n",
      "13/13 - 0s - loss: 2.2098 - accuracy: 0.3308\n",
      "Epoch 27/100\n",
      "13/13 - 0s - loss: 2.1753 - accuracy: 0.3759\n",
      "Epoch 28/100\n",
      "13/13 - 0s - loss: 2.1356 - accuracy: 0.3684\n",
      "Epoch 29/100\n",
      "13/13 - 0s - loss: 2.0986 - accuracy: 0.3860\n",
      "Epoch 30/100\n",
      "13/13 - 0s - loss: 2.0664 - accuracy: 0.4085\n",
      "Epoch 31/100\n",
      "13/13 - 0s - loss: 2.0460 - accuracy: 0.4060\n",
      "Epoch 32/100\n",
      "13/13 - 0s - loss: 1.9991 - accuracy: 0.4085\n",
      "Epoch 33/100\n",
      "13/13 - 0s - loss: 1.9748 - accuracy: 0.4110\n",
      "Epoch 34/100\n",
      "13/13 - 0s - loss: 1.9159 - accuracy: 0.4586\n",
      "Epoch 35/100\n",
      "13/13 - 0s - loss: 1.8956 - accuracy: 0.4662\n",
      "Epoch 36/100\n",
      "13/13 - 0s - loss: 1.8717 - accuracy: 0.4536\n",
      "Epoch 37/100\n",
      "13/13 - 0s - loss: 1.8516 - accuracy: 0.4862\n",
      "Epoch 38/100\n",
      "13/13 - 0s - loss: 1.7967 - accuracy: 0.4637\n",
      "Epoch 39/100\n",
      "13/13 - 0s - loss: 1.7528 - accuracy: 0.5213\n",
      "Epoch 40/100\n",
      "13/13 - 0s - loss: 1.7362 - accuracy: 0.5013\n",
      "Epoch 41/100\n",
      "13/13 - 0s - loss: 1.7043 - accuracy: 0.5088\n",
      "Epoch 42/100\n",
      "13/13 - 0s - loss: 1.6571 - accuracy: 0.5388\n",
      "Epoch 43/100\n",
      "13/13 - 0s - loss: 1.6383 - accuracy: 0.5388\n",
      "Epoch 44/100\n",
      "13/13 - 0s - loss: 1.5921 - accuracy: 0.5689\n",
      "Epoch 45/100\n",
      "13/13 - 0s - loss: 1.5647 - accuracy: 0.5739\n",
      "Epoch 46/100\n",
      "13/13 - 0s - loss: 1.5450 - accuracy: 0.5764\n",
      "Epoch 47/100\n",
      "13/13 - 0s - loss: 1.4748 - accuracy: 0.6115\n",
      "Epoch 48/100\n",
      "13/13 - 0s - loss: 1.4502 - accuracy: 0.5865\n",
      "Epoch 49/100\n",
      "13/13 - 0s - loss: 1.4288 - accuracy: 0.6065\n",
      "Epoch 50/100\n",
      "13/13 - 0s - loss: 1.3961 - accuracy: 0.6140\n",
      "Epoch 51/100\n",
      "13/13 - 0s - loss: 1.3654 - accuracy: 0.6441\n",
      "Epoch 52/100\n",
      "13/13 - 0s - loss: 1.3396 - accuracy: 0.6241\n",
      "Epoch 53/100\n",
      "13/13 - 0s - loss: 1.3039 - accuracy: 0.6591\n",
      "Epoch 54/100\n",
      "13/13 - 0s - loss: 1.2791 - accuracy: 0.6817\n",
      "Epoch 55/100\n",
      "13/13 - 0s - loss: 1.2403 - accuracy: 0.6767\n",
      "Epoch 56/100\n",
      "13/13 - 0s - loss: 1.1888 - accuracy: 0.7218\n",
      "Epoch 57/100\n",
      "13/13 - 0s - loss: 1.1564 - accuracy: 0.7293\n",
      "Epoch 58/100\n",
      "13/13 - 0s - loss: 1.1278 - accuracy: 0.7243\n",
      "Epoch 59/100\n",
      "13/13 - 0s - loss: 1.0842 - accuracy: 0.7569\n",
      "Epoch 60/100\n",
      "13/13 - 0s - loss: 1.0625 - accuracy: 0.7719\n",
      "Epoch 61/100\n",
      "13/13 - 0s - loss: 1.0203 - accuracy: 0.7845\n",
      "Epoch 62/100\n",
      "13/13 - 0s - loss: 0.9985 - accuracy: 0.7920\n",
      "Epoch 63/100\n",
      "13/13 - 0s - loss: 0.9738 - accuracy: 0.7995\n",
      "Epoch 64/100\n",
      "13/13 - 0s - loss: 0.9399 - accuracy: 0.8271\n",
      "Epoch 65/100\n",
      "13/13 - 0s - loss: 0.9023 - accuracy: 0.8195\n",
      "Epoch 66/100\n",
      "13/13 - 0s - loss: 0.8833 - accuracy: 0.8371\n",
      "Epoch 67/100\n",
      "13/13 - 0s - loss: 0.8491 - accuracy: 0.8396\n",
      "Epoch 68/100\n",
      "13/13 - 0s - loss: 0.8256 - accuracy: 0.8622\n",
      "Epoch 69/100\n",
      "13/13 - 0s - loss: 0.7946 - accuracy: 0.8647\n",
      "Epoch 70/100\n",
      "13/13 - 0s - loss: 0.7611 - accuracy: 0.8622\n",
      "Epoch 71/100\n",
      "13/13 - 0s - loss: 0.7383 - accuracy: 0.8797\n",
      "Epoch 72/100\n",
      "13/13 - 0s - loss: 0.6946 - accuracy: 0.8897\n",
      "Epoch 73/100\n",
      "13/13 - 0s - loss: 0.6668 - accuracy: 0.8947\n",
      "Epoch 74/100\n",
      "13/13 - 0s - loss: 0.6477 - accuracy: 0.9048\n",
      "Epoch 75/100\n",
      "13/13 - 0s - loss: 0.6297 - accuracy: 0.9123\n",
      "Epoch 76/100\n",
      "13/13 - 0s - loss: 0.6040 - accuracy: 0.9248\n",
      "Epoch 77/100\n",
      "13/13 - 0s - loss: 0.5782 - accuracy: 0.9348\n",
      "Epoch 78/100\n",
      "13/13 - 0s - loss: 0.5552 - accuracy: 0.9348\n",
      "Epoch 79/100\n",
      "13/13 - 0s - loss: 0.5369 - accuracy: 0.9348\n",
      "Epoch 80/100\n",
      "13/13 - 0s - loss: 0.5110 - accuracy: 0.9424\n",
      "Epoch 81/100\n",
      "13/13 - 0s - loss: 0.4992 - accuracy: 0.9499\n",
      "Epoch 82/100\n",
      "13/13 - 0s - loss: 0.4712 - accuracy: 0.9449\n",
      "Epoch 83/100\n",
      "13/13 - 0s - loss: 0.4531 - accuracy: 0.9599\n",
      "Epoch 84/100\n",
      "13/13 - 0s - loss: 0.4388 - accuracy: 0.9524\n",
      "Epoch 85/100\n",
      "13/13 - 0s - loss: 0.4395 - accuracy: 0.9524\n",
      "Epoch 86/100\n",
      "13/13 - 0s - loss: 0.4011 - accuracy: 0.9649\n",
      "Epoch 87/100\n",
      "13/13 - 0s - loss: 0.3808 - accuracy: 0.9624\n",
      "Epoch 88/100\n",
      "13/13 - 0s - loss: 0.3680 - accuracy: 0.9749\n",
      "Epoch 89/100\n",
      "13/13 - 0s - loss: 0.3518 - accuracy: 0.9774\n",
      "Epoch 90/100\n",
      "13/13 - 0s - loss: 0.3353 - accuracy: 0.9774\n",
      "Epoch 91/100\n",
      "13/13 - 0s - loss: 0.3314 - accuracy: 0.9774\n",
      "Epoch 92/100\n",
      "13/13 - 0s - loss: 0.3127 - accuracy: 0.9799\n",
      "Epoch 93/100\n",
      "13/13 - 0s - loss: 0.3041 - accuracy: 0.9799\n",
      "Epoch 94/100\n",
      "13/13 - 0s - loss: 0.3211 - accuracy: 0.9699\n",
      "Epoch 95/100\n",
      "13/13 - 0s - loss: 0.2947 - accuracy: 0.9774\n",
      "Epoch 96/100\n",
      "13/13 - 0s - loss: 0.2708 - accuracy: 0.9825\n",
      "Epoch 97/100\n",
      "13/13 - 0s - loss: 0.2529 - accuracy: 0.9850\n",
      "Epoch 98/100\n",
      "13/13 - 0s - loss: 0.2454 - accuracy: 0.9875\n",
      "Epoch 99/100\n",
      "13/13 - 0s - loss: 0.2356 - accuracy: 0.9850\n",
      "Epoch 100/100\n",
      "13/13 - 0s - loss: 0.2285 - accuracy: 0.9900\n"
     ]
    },
    {
     "data": {
      "text/plain": [
       "<tensorflow.python.keras.callbacks.History at 0x7f48b829dfd0>"
      ]
     },
     "execution_count": 18,
     "metadata": {},
     "output_type": "execute_result"
    }
   ],
   "source": [
    "# compile model\n",
    "model.compile(loss='categorical_crossentropy', optimizer='adam', metrics=['accuracy'])\n",
    "# fit model\n",
    "model.fit(X, y, epochs=100, verbose=2)"
   ]
  },
  {
   "cell_type": "markdown",
   "metadata": {},
   "source": [
    "### Save Model\n",
    "After the model is fit, we save it to file for later use.\n",
    "\n",
    "The Keras model API provides the save() function that we can use to save the model to a single file, including weights and topology information."
   ]
  },
  {
   "cell_type": "code",
   "execution_count": 19,
   "metadata": {},
   "outputs": [],
   "source": [
    "# save the model to file\n",
    "model.save('model.h5')"
   ]
  },
  {
   "cell_type": "markdown",
   "metadata": {},
   "source": [
    "We also save the mapping from characters to integers that we will need to encode any input when using the model and decode any output from the model."
   ]
  },
  {
   "cell_type": "code",
   "execution_count": 21,
   "metadata": {},
   "outputs": [],
   "source": [
    "# save the mapping\n",
    "dump(mapping, open('mapping.pkl', 'wb'))"
   ]
  },
  {
   "cell_type": "markdown",
   "metadata": {},
   "source": [
    "### Generate Text\n",
    "We will use the learned language model to generate new sequences of text that have the same statistical properties."
   ]
  },
  {
   "cell_type": "code",
   "execution_count": 26,
   "metadata": {},
   "outputs": [],
   "source": [
    "# load the model\n",
    "model = load_model('model.h5')\n",
    "# load the mapping\n",
    "mapping = load(open('mapping.pkl', 'rb'))"
   ]
  },
  {
   "cell_type": "code",
   "execution_count": 27,
   "metadata": {},
   "outputs": [],
   "source": [
    "# generate a sequence of characters with a language model\n",
    "def generate_seq(model, mapping, seq_length, seed_text, n_chars):\n",
    "    in_text = seed_text\n",
    "    # generate a fixed number of characters\n",
    "    for _ in range(n_chars):\n",
    "        # encode the characters as integers\n",
    "        encoded = [mapping[char] for char in in_text]\n",
    "        # truncate sequences to a fixed length\n",
    "        encoded = pad_sequences([encoded], maxlen=seq_length, truncating='pre')\n",
    "        # one hot encode\n",
    "        encoded = to_categorical(encoded, num_classes=len(mapping))\n",
    "        # predict character\n",
    "        yhat = model.predict_classes(encoded, verbose=0)\n",
    "        # reverse map integer to character\n",
    "        out_char = ''\n",
    "        for char, index in mapping.items():\n",
    "            if index == yhat:\n",
    "                out_char = char\n",
    "                break\n",
    "        # append to input\n",
    "        in_text += char\n",
    "    return in_text"
   ]
  },
  {
   "cell_type": "code",
   "execution_count": 32,
   "metadata": {},
   "outputs": [
    {
     "name": "stderr",
     "output_type": "stream",
     "text": [
      "/home/j5067249/.local/lib/python3.6/site-packages/tensorflow/python/keras/engine/sequential.py:450: UserWarning: `model.predict_classes()` is deprecated and will be removed after 2021-01-01. Please use instead:* `np.argmax(model.predict(x), axis=-1)`,   if your model does multi-class classification   (e.g. if it uses a `softmax` last-layer activation).* `(model.predict(x) > 0.5).astype(\"int32\")`,   if your model does binary classification   (e.g. if it uses a `sigmoid` last-layer activation).\n",
      "  warnings.warn('`model.predict_classes()` is deprecated and '\n"
     ]
    },
    {
     "name": "stdout",
     "output_type": "stream",
     "text": [
      "sing a song of sixpence, a pocket full o\n",
      "king was in his counting out his conengt\n",
      "hello worli  aas ingd in hi psnet wa l a\n"
     ]
    }
   ],
   "source": [
    "# test start of rhyme\n",
    "print(generate_seq(model, mapping, 10, 'sing a son', 30))\n",
    "# test mid-line\n",
    "print(generate_seq(model, mapping, 10, 'king was i', 30))\n",
    "# test not in original\n",
    "print(generate_seq(model, mapping, 10, 'hello worl', 30))"
   ]
  },
  {
   "cell_type": "code",
   "execution_count": null,
   "metadata": {},
   "outputs": [],
   "source": []
  }
 ],
 "metadata": {
  "kernelspec": {
   "display_name": "Python 3",
   "language": "python",
   "name": "python3"
  },
  "language_info": {
   "codemirror_mode": {
    "name": "ipython",
    "version": 3
   },
   "file_extension": ".py",
   "mimetype": "text/x-python",
   "name": "python",
   "nbconvert_exporter": "python",
   "pygments_lexer": "ipython3",
   "version": "3.6.4"
  }
 },
 "nbformat": 4,
 "nbformat_minor": 2
}
